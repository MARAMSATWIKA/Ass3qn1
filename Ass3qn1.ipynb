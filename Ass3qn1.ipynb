{
 "cells": [
  {
   "cell_type": "code",
   "execution_count": 21,
   "id": "7c59a94e",
   "metadata": {},
   "outputs": [
    {
     "name": "stdout",
     "output_type": "stream",
     "text": [
      "enter the length of the tuple:5\n",
      "enter the number at index8\n",
      "value: 8 at index: 0\n",
      "enter the number at index2\n",
      "value: 2 at index: 1\n",
      "enter the number at index3\n",
      "value: 3 at index: 2\n",
      "enter the number at index0\n",
      "value: 0 at index: 3\n",
      "enter the number at index7\n",
      "value: 7 at index: 4\n",
      "tuple from the user is: (8, 2, 3, 0, 7)\n",
      "sum of all numbers in the tuple:  20\n"
     ]
    }
   ],
   "source": [
    "length=int(input(\"enter the length of the tuple:\"))\n",
    "sample=[]\n",
    "for i in range(0,length):\n",
    "    val=input(\"enter the number at index\")\n",
    "    print(\"value:\",val,\"at index:\",i)\n",
    "    sample.append(int(val))\n",
    "print(\"tuple from the user is:\",tuple(sample))\n",
    "def addition(given_list):\n",
    "    add=0\n",
    "    for num in given_list:\n",
    "        add=add+num\n",
    "    return add\n",
    "print(\"sum of all numbers in the tuple: \",addition(sample))"
   ]
  },
  {
   "cell_type": "code",
   "execution_count": null,
   "id": "3d0b2abd",
   "metadata": {},
   "outputs": [],
   "source": []
  }
 ],
 "metadata": {
  "kernelspec": {
   "display_name": "Python 3 (ipykernel)",
   "language": "python",
   "name": "python3"
  },
  "language_info": {
   "codemirror_mode": {
    "name": "ipython",
    "version": 3
   },
   "file_extension": ".py",
   "mimetype": "text/x-python",
   "name": "python",
   "nbconvert_exporter": "python",
   "pygments_lexer": "ipython3",
   "version": "3.9.7"
  }
 },
 "nbformat": 4,
 "nbformat_minor": 5
}
